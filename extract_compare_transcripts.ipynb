{
 "cells": [
  {
   "cell_type": "markdown",
   "id": "c0eb3526-9590-45b9-a555-1dc8ad54d7ef",
   "metadata": {
    "jp-MarkdownHeadingCollapsed": true,
    "tags": []
   },
   "source": [
    "### Extract and compare transcriptions from GCP and AWS"
   ]
  },
  {
   "cell_type": "code",
   "execution_count": 1,
   "id": "d18dcc7d-2d68-48ea-9781-bd5ecb9f9101",
   "metadata": {},
   "outputs": [
    {
     "name": "stdout",
     "output_type": "stream",
     "text": [
      "Collecting jiwer\n",
      "  Downloading jiwer-2.2.0-py3-none-any.whl (13 kB)\n",
      "Collecting python-Levenshtein\n",
      "  Downloading python-Levenshtein-0.12.2.tar.gz (50 kB)\n",
      "\u001b[K     |████████████████████████████████| 50 kB 2.3 MB/s eta 0:00:01\n",
      "\u001b[?25hRequirement already satisfied: numpy in /opt/conda/lib/python3.9/site-packages (from jiwer) (1.20.3)\n",
      "Requirement already satisfied: setuptools in /opt/conda/lib/python3.9/site-packages (from python-Levenshtein->jiwer) (57.4.0)\n",
      "Building wheels for collected packages: python-Levenshtein\n",
      "  Building wheel for python-Levenshtein (setup.py) ... \u001b[?25ldone\n",
      "\u001b[?25h  Created wheel for python-Levenshtein: filename=python_Levenshtein-0.12.2-cp39-cp39-linux_x86_64.whl size=80042 sha256=5f0ef323441eb33b076dedfa64c181989b4462d3bf62426f703c4159ba9c7980\n",
      "  Stored in directory: /home/jovyan/.cache/pip/wheels/46/4a/6c/164a1d9dd67c82d208f19d869ad0a517a0c5a6117f608c53e6\n",
      "Successfully built python-Levenshtein\n",
      "Installing collected packages: python-Levenshtein, jiwer\n",
      "Successfully installed jiwer-2.2.0 python-Levenshtein-0.12.2\n"
     ]
    }
   ],
   "source": [
    "# !pip install jiwer"
   ]
  },
  {
   "cell_type": "code",
   "execution_count": 2,
   "id": "b46fd09a-280d-4a53-b099-3a5002100581",
   "metadata": {},
   "outputs": [],
   "source": [
    "import numpy as np\n",
    "import pandas as pd\n",
    "import json\n",
    "import pathlib\n",
    "import jiwer"
   ]
  },
  {
   "cell_type": "markdown",
   "id": "a821a8ae-1036-450d-a0f3-da89dcdde083",
   "metadata": {
    "jp-MarkdownHeadingCollapsed": true,
    "tags": []
   },
   "source": [
    "### Both GCP and AWS return JSON objects with results of transcription.\n",
    "\n",
    "The format they use are very different."
   ]
  },
  {
   "cell_type": "code",
   "execution_count": 3,
   "id": "261ae748-a6bc-49f1-be86-37f4ad91ca33",
   "metadata": {},
   "outputs": [],
   "source": [
    "def extract_transcripts_gcp(folder):\n",
    "    for file in pathlib.Path(folder).glob('*.json'):\n",
    "        with open(file, 'r') as read_file:\n",
    "            data = json.load(read_file)\n",
    "            with open(str(file) + '.txt', 'w') as write_file:\n",
    "                for result in data['results']:\n",
    "                    write_file.write(result['alternatives'][0]['transcript'])\n",
    "                    write_file.write(' ')\n",
    "\n",
    "def extract_transcripts_aws(folder):\n",
    "    for file in pathlib.Path(folder).glob('*.json'):\n",
    "        with open(file, 'r') as read_file:\n",
    "            data = json.load(read_file)\n",
    "            with open(str(file) + '.txt', 'w') as write_file:\n",
    "                write_file.write(data['results']['transcripts'][0]['transcript'])"
   ]
  },
  {
   "cell_type": "code",
   "execution_count": 4,
   "id": "a66fba82-ed74-4a8d-8501-cd52c55e7bb4",
   "metadata": {},
   "outputs": [],
   "source": [
    "for folder in ['/home/jovyan/work/asr_volume/gcp']:\n",
    "    extract_transcripts_gcp(folder)"
   ]
  },
  {
   "cell_type": "code",
   "execution_count": 5,
   "id": "e2e4d889-8cd2-42cf-9e6c-64069c677bb9",
   "metadata": {},
   "outputs": [],
   "source": [
    "for folder in ['/home/jovyan/work/asr_volume/aws']:\n",
    "    extract_transcripts_aws(folder)"
   ]
  },
  {
   "cell_type": "markdown",
   "id": "f8ee18a7-1fa6-48f5-b6b6-9324dc5ba66d",
   "metadata": {
    "jp-MarkdownHeadingCollapsed": true,
    "tags": []
   },
   "source": [
    "### Setup reference (ground truth) text"
   ]
  },
  {
   "cell_type": "code",
   "execution_count": 6,
   "id": "582e95e7-8e72-4e3b-b7da-6d6b2d794c18",
   "metadata": {},
   "outputs": [],
   "source": [
    "# TEDLIUM encodes transcriptions in a NIST format; convert stm to text\n",
    "\n",
    "ref = ['' for i in range(4)]\n",
    "ref[0] = '''your position in life comes to seem not accidental'''\n",
    "\n",
    "for i, file in enumerate(['/home/jovyan/work/asr_volume/TEDLIUM_release1/dev/stm/BarrySchwartz_2005G.stm',\n",
    "                          '/home/jovyan/work/asr_volume/TEDLIUM_release1/dev/stm/CraigVenter_2008.stm',\n",
    "                          '/home/jovyan/work/asr_volume/TEDLIUM_release1/dev/stm/ElizabethGilbert_2009.stm']):\n",
    "    with open(file, 'r') as f:\n",
    "        lines = f.readline() # ignore first line\n",
    "        lines = f.readlines()\n",
    "        lines = [line.split('> ')[1][:-1] for line in lines]\n",
    "        for line in lines:\n",
    "            ref[i+1] += line"
   ]
  },
  {
   "cell_type": "markdown",
   "id": "47bfcd3c-e961-4da0-b309-88dc5765dea0",
   "metadata": {
    "tags": []
   },
   "source": [
    "### Manually scrape text from text files prepared above.  Can be automated later, if needed."
   ]
  },
  {
   "cell_type": "code",
   "execution_count": 7,
   "id": "6162ac16-fc89-47ec-9aa3-1e45b71f93f7",
   "metadata": {},
   "outputs": [],
   "source": [
    "gcp = ['' for i in range(4)]\n",
    "gcp[0] = '''Your position in life, comes to seem not accidental.'''\n",
    "gcp[1] = '''I'm going to talk to you about some stuff that's in this book of mine that I hope will resonate with other things that you've already heard. And I'll try to make some connections myself in case you missed them. But I want to start with what I call the official Dogma. If you'll dog mouth, what the official dogma of all, Western industrial societies and the official dog or runs like this. If we are interested in maximizing the welfare of our citizens, the way to do that is to maximize individual freedom. The reason for this is both that freedom is in and of itself. Good valuable worthwhile essential to Being Human and because if people have freedom than each of us can act on our own to do the things that will maximize our welfare and no one has to decide on our behalf.  The way to maximize freedom is to maximize choice.  The more Choice people have, the more freedom they have and the more freedom. They have the more welfare they have  This I think is so deeply embedded in the water supply that it wouldn't occur to anyone to question it.  And it's also deeply embedded in our lives. I'll give you some examples of what modern progress has made possible for us. This is my Supermarket. Not such a big one.  I want to say just a worried about salad dressing 175 salad dressings in my Supermarket. If you don't count the 10, extra virgin, olive oils and 12 volts and vinegars. You could buy to make a very large number of your own salad dressings in the off chance, that none of the hundred seventy-five the store has on offer suits you. So this is what the supermarket is like. And then you go to the consumer electronics, store to set up a stereo system speakers, CD player or tape player tuner amplifier. And in this one, single consumer electronics store. There are that many stereo systems. We can construct, six and a half million different stereo systems out of the components that are on offer in one store. You got to admit, that's a lot of choice.  Another domains, the world of communications, there was a time when I was a boy, when you could get any kind of telephone service, you wanted as long as it came from my bell, you rented your phone. You didn't buy one consequence of that. By the way, is that the phone never broke and those days are gone. We now have an almost unlimited variety of phones, especially in the world of cell phones. These are cell phones of the future.  My favorite is the middle one, the MP3 player, nose hair. Trimmer and creme brulee torch, and if  If by some chance you haven't seen that in your store yet. You can rest assured that one day soon. You will. And what this does is it leads people to walk into their stores asking this question.  And you know what the answer to this question now is the answer is. No, it is not possible to buy a cell phone that doesn't do too much. So in other aspects of life, that are much more significant than buying things, the same explosion of choice is. True Healthcare. It is no longer the case in the United States that you go to the doctor and the doctor tells you want to do, instead you go to the doctor and the doctor tells you what we could do a, or we could do be a has these benefits and these risks. He has these benefits and these risks. Why do you want to do?  And you say Doc, what should I do in the doc, says, he has these benefits and risks and be has these benefits of risk. What do you want to do? And you say, if you were me. What would you do? And the doc says, but I'm not you.  And the result is we call it patient autonomy, which makes it sound like a good thing for what it really is. A shifting of the burden in the responsibility for decision-making from somebody who knows something. Then with the doctor somebody who knows nothing and is almost certainly sick and thus not in the best shape to be making decisions, namely the patient. There's enormous marketing of prescription drugs to people like you and me, which if you think about it makes no sense at all, since we can't buy them. Why do they mark it to us? If we can buy them, the answer is that they expect us to call our doctors the next morning and asked for our prescriptions to be changed.  Something as dramatic as our identity is now become a matter of choice as the slide is meant to indicate. We get to, we don't inherit an identity, we get to invented and we get to reinvent ourselves as often as we like. And that means that every day when you wake up in the morning, you have to decide what kind of person you want to be in with respect to marriage and family. There was a time when the default assumption, that almost everyone had is that you got married as soon as you could and then you started having kids as soon as you could. The only real Choice was who not when and not what you did. After nowadays, everything is very much up for grabs. I teach wonderfully intelligent student and I assign 20% less work than I used to. And it's not because they're less smart, and it's not because they're less diligent. It's because they are preoccupied, asking them.  Should I get married or not? Should I get married? Now? Should I get married later? Should I have kids first or career? First? All of these are consuming questions and they're going to answer these questions whether or not it means not doing all the work I assign and not getting a good grade in my courses and indeed. They should, these are important questions to answer.  Work. We are blessed as Carl was pointing out with the technology that enables us to work every minute of every day from any place on the planet except the Randolph Hotel.  There is one corner, by the way, that I'm not going to tell anybody about, where you actually, where the, where they hide Wi-Fi works. I'm not telling you about it cuz I want to use it. So what this means, this incredible freedom of choice. We have with respect to work is that we have to make a decision again. And again, and again about whether we should or shouldn't be working. We can go to watch our kids play soccer, and we have our cell phone on one hip and are Blackberry on our other hip and our laptop, presumably on our laps. And even if they're all shut off, every minute that we're watching, our kids mutilate a soccer game. We are also asking ourselves. Should I answer this cell phone call? Should I respond to this email? Should I draft this letter? And even if the answer to the question is, no, it's certainly going to make the experience of your kids soccer game. Very different than it would have been so everywhere. We look big things and small things material, things and lifestyle things. Life is a matter of choice.  And the world we used to live in. Look like this.  That is to say, there was some choices but not everything was a matter of choice and the world. We now live in, looks like this. And the question is, is this good news or bad news.  And the answer is, yes.  We all know what's good about it. So I'm going to talk about what's bad about it. All of this Choice has two effects to negative effects on people. One effect paradoxically is that it produces paralysis rather than Liberation with so many options to choose from people, find it very difficult to choose at all. I'll give you one very dramatic example of this, a study that was done of investments in voluntary. Retirement plans, colleague of mine, got access to investment records from Vanguard the gigantic mutual fund company of about a million employees in about 2,000 different workplaces. And what she found is that for every 10 mutual funds. The employer offered rate of participation went down 2%,  You offer 50 finds 10% fewer employees. Participate than if you only offer five, why? Because with 50 funds to choose from, it's so damn hard to decide which one to choose that. You just put it off till tomorrow and then tomorrow and then tomorrow and tomorrow and tomorrow. And of course, Tomorrow Never Comes understand that not only does this mean that people are going to have to eat dog food when they retire because I don't have enough money put away. It also means that making the decision is so hard that they pass up. Significant matching money from the employer by not participating. They're passing up as much as $5,000 a year from the employer who would happily matched their contribution.  So paralysis is a consequence of having too many choices, and I think it makes the world look like this.  You really want to get the decision, right? If it's for all eternity, right? You don't want to pick the wrong mutual fund, or even the wrong salad, dressing. So that's one effect. The second effect. Is that even if we managed to overcome the paralysis and make a choice, we end up less satisfied with the result of the choice, then we would be if we have fewer options to choose from and there are several reasons for this.  One of them is that with a lot of different salad dressings to choose from, if you buy one and it's not perfect. And you know, what salad dressing is, it's easy to imagine that you could have made a different choice. That would have been better.  And what happens is this imagined alternative induces you to regret the decision you made and this regret subtract from the satisfaction. You get out of the decision you made even if it was a good decision.  The more options. There are the easier. It is to regret anything at all. That is disappointing about the auction that you chose. Second, what Economist call opportunity cost. Dan Gilbert made a big point this morning of talking about how how much the way in which we value things depends on what we compare them too. Well, when there are lots of alternatives to consider it is easy to imagine the attractive features of Alternatives that you reject. That make it, you less satisfied with the alternative that you've chosen. Here's an example.  For those of you who are New Yorkers. I apologize.  But here's what you're supposed to be thinking either. He's just couple on the Hamptons very expensive, real estate. Gorgeous Beach, beautiful day. They have it all to themselves. What could be better? Well, damn. It. This guy is thinking it's August everybody in my Manhattan. Neighborhood is a way I could be parking right in front of my building.  And he spends two weeks Nag by the idea that he is missing the opportunity day after they, too. Have a great parking space.  Opportunity cost subtract from the satisfaction, we get out of what we choose. Even when what we choose is terrific and the more options. There are to consider the more attractive features of these options are going to be reflected by us as opportunity cost. Here's another example.  Not now that this cartoon makes a lot of points that makes points about living in the moment as well and probably about doing things slowly. But once pointed makes, is that whenever you're choosing one thing, you're choosing not to do other things, and those other things may have lots of attractive features and it's going to make what you're doing less attractive, third escalation of expectations. This hit me. When I went to replace my jeans. I wear jeans almost all the time and there was a time when genes came in one flavor and you bought them and they fit like crap and they were incredibly uncomfortable. And if you wore them long enough and wash them enough time, they started V feel. Okay. So I went to replace my jeans after years and years of wearing these old ones. And I said, I want a pair of jeans, who's my size on the shopkeeper said, do you want slim fit easyfit relaxed fit button fly or Superfly? You want stone-washed or acid? Wash. Do you want to distress you on boot? Cut you on tapered. Blah, blah, blah. My jaw dropped.  And after I recovered, I said I want the kind that used to be the only kind.  He had no idea what that was.  So I spent an hour trying on all these damn jeans and I walked out of the store truth with the best fitting jeans. I had ever had. I did better all this Choice. Made it possible for me to do better, but I felt worse.  Why were a whole book to try to explain this to myself? The reason is?  The reason I felt worse is that with all of these options available my expectations about how good a pair of jeans should be went up.  I had very low X by had no particular expectations. When they only came in one flavor when it came in a hundred flavors dammit. One of them should have been perfect and when I got was good, but it wasn't perfect. And so I compared what I got to what I expected and what I got was disappointing in comparison to what I expected adding options to people's lives, can't help but increased. The expectations people have about how good those options will be, and what that's going to produce is less satisfaction with with results, even when they're good results. Nobody in the world of marketing knows this.  Cuz if they did.  You wouldn't all know what this was about. The truth is more like this.  The reason that everything was better back, when everything was worse, is that, when everything was worse, it was actually possible for people to have experiences that were a pleasant surprise nowadays. The world. We live in, we affluent industrialize, citizens with protection the expectation, the best you can ever hope for is that sir, stuff is as good. As you expect it to be, you will never be pleasantly surprised, because your expectations, my expectations have gone through the roof. This secret to happiness. This is what you came for, the secret to happiness, is low expectations.  I want to say just a little autobiographical moment that I actually am married to a wife and and she's really quite wonderful. I couldn't have done better. I didn't settle. But settling isn't always such a bad thing, finally.  One consequence of buying a bad fitting pair of jeans when there is only one kind to buy. Is that when you are dissatisfied and you ask, why who's responsible? The answer is clear. The world is responsible. What could you do when there are hundreds of different styles of jeans available? And you buy one, that is disappointing. And you ask why who's responsible? It is equally clear that the answer to the question is you, you could have done better with a thousand, a hundred different kinds of jeans on display. There is no excuse for failure. And so when people make decisions and even though the results of the decisions are good, they feel disappointed about them. They blame themselves, clinical depression has exploded in the industrial world in the last generation. I believe a significant not the only but a significant contributor to this explosion of depression and also suicide is that people have experiences that are disappointing because their standards are so high and then when they have to  Wayne these experiences to themselves. They think they are at fault. And so the net result is that we do better at in general objectively and we feel worse. So let me remind you. This is the official Dogma. The one that we all take to be true and it's all false. It is not true. There's no question that some choice is better than none, but it doesn't follow from that, that more choice is better than some choice. There's some magical amount. I don't know what it is. I'm pretty confident that we have long since passed the point where options improve our welfare. Now as a policy matter, I'm almost done. That's a policy matter. The thing to think about is this, what enables all of this choice.  In industrial societies is material athletes. There are lots of places in the world and we have heard about several of them. Where the their problem is. Not that they have too much Choice. Their problem is that they have too little. So the stuff I'm talking about is the peculiar problem of modern affluent Western societies. And what is so frustrating and infuriating is this? Steve level talked to you yesterday about how do you say expensive and difficult to install? Infant child seats? Don't help. It's a waste of money. What I'm telling you is that these expensive complicated choices. It's not simply that they don't help. They actually hurt. They actually make us worse off. If some of the neighbors people in our society, to make all of the choices we make were shifted to Societies in which people have too few options.  Not only with those people's lives. Be improved, but ours would be improved. Also is why the economist call a Pareto improving move income. Redistribution will make everyone better off. Not just for people because of how all this excess Choice Place us, so to conclude  You're supposed to read this cartoon and being sophisticated person, say, what is this fish? No, you know, nothing is possible in this Fishbowl impoverished imagination, a myopic view of the world. And that's the way I read it at first. The more I thought about it. However, the more I came to the view that this fish know, something, because the truth of the matter is that, if you shatter the Fishbowl, so that everything is possible. You don't have freedom, you have paralysis if you shatter this Fishbowl so that everything is possible you. Decrease satisfaction, you increase paralysis and you decrease satisfaction. Everybody needs a fishbowl. This one is almost certainly too limited perhaps, even for the fish, certainly for us, but the absence of some metaphorical Fishbowl is a recipe for misery and I suspect disaster. Thank you very much.'''\n",
    "gcp[2] = '''You know, I've talked to about some of these projects before about the human genome and what that might mean. And Discovery new sets of genes are actually starting to the new Point. We've been digitizing biology and now we're trying to go from that digital code into a new phase of biology with designing and something sizing life. So we've always been trying to ask big questions. What is life is something that I think many biologists have been trying to understand it at various levels. We've tried various approaches paring it down to minimal components. We've been digitizing it now for almost 20 years. When we sequence the human genome, it was going from the analog world to biology into the digital world is a computer.  Now we're trying to ask him. We regenerate life or can we create new life out of this Digital Universe?  This is the map of a small organism. Mycoplasma genitalium. How that has, the smallest genome phrase species that can self-replicates in the laboratory and we've been trying to just see if we can come up with a even smaller IG know. We're able to knock out on the order of a hundred jeans out of the 500 or so that are here, but when we look at its metabolic map, it's relatively simple compared to ours. Trust me. This is simple, but when we look at that, we can knock out one of the time is very unlikely that this would yield a living cell.  So we decided The Only Way Forward was to actually synthesize this chromosome. So we could vary the components to ask some of these most fundamental questions until we started down the road of a can we synthesize a chromosome? Can chemistry permit making these really large molecules where we've never been before? And if we do, can we boot up a chromosome, the chromosome, by the way, it's just a piece of inert chemical material.  Sharp Ace of digitizing, life has been increasing at an exponential pace.  Our ability to write the genetic code has been moving pretty slowly but has been increasing in our latest point would put it on though on exponential curve.  We started this over 15 years ago. It took several stages. In fact, starting with a bioethical review before we did the first experiments, but that turns at synthesizing DNA is very difficult. There's tens of thousands of machines around the world. That makes small pieces of DNA 3250 letters in length, and it's a degenerate process or the Longview to make the peace. The more errors are are so we had to create a new method for putting these little pieces together and correct, all the errors. And this was our first attempt starting with a digital information of the genome. F, i x 174. It's a small virus that kills bacteria. We designed the pieces and went through our error, correction, and had a DNA molecule about 5000 letters.  Exciting phase, can we took this piece of inner chemical and put it in a bacteria in the bacteria started to read this? Genetic code made the viral particles the viral particles and were released from the cells and came back and kill the E.coli. I was talking to the oil industry recently and I said, they clearly understood that model. They laugh more than you guys are at. So we think this is a situation where the software can actually build its own Hardware, in a biological system. But we wanted to go much larger. We wanted to build in Tire bacterial, chromosome, /, 580,000 letters of genetic code. So we thought we'd build in the cassettes, the size of the viruses. So we can actually very the cassettes to understand what the actual components of a living cell are.  Design is critical. And if you're starting with digital information in the computer, that digital information has to be really accurate. When we first sequence The genome in 1995. The standard of accuracy was one error for 10,000 base pairs, if they found on receipts when sitting at 30 errors that we use that original sequence, it never would have been able to be booted up part of the design of designer pieces. That are 50 letters long that have to overlap with all the other 50 letter pieces to build smaller subunits. We have to design so they can go together. We design unique elements into this, how you may have read that we put water marks. In think of this. We have a four-letter genetic code, a C G & T, Triplets of that letters of those letters code for roughly 20, amino acids. That there's a single letter designation, for each of the amino acids, so we can use the genetic code to write out word.  Sentences thoughts. Initially all we did was autograph. It. Some people are disappointed. There was not poetry, we just so we can just chew back with enzymes. There's enzymes that repair them and put them together and we started making pieces, starting with pieces that were 5 2/7 and 7000 letters. But those together to make $24,000 pieces then put sets of those going up to 70. Mm, at each stage. We grew up these pieces and abundant. So we could sequence them, because we're trying to create a process that extremely a robust that you can see in a minute. We're trying to get to the point of automation. So this looks like a basketball playoff when we get into these really large pieces, over a hundred thousand base pairs. They want any longer grow readily, in Eco light exhaust, all the modern tools and molecular biology. And so, we turned to other  Mechanisms, we knew there's a mechanism called. Homologous recombination that biology uses to repair DNA that can put pieces together. Here's an example of an organism called Dyna caucus radio. Duran's they can take 3 million RADS of radiation. You can see the top panel is chromosome, just gets blown apart, 12 to 24 hours later, and put it back together. Exactly. As it was before, we have thousands of organisms that can do this. These organisms can be cuddly desiccated that can live in a vacuum. I am absolutely certain that life can exist in outer space move around. Find a new aqueous environment. In fact, NASA has shown a lot of this is out there of the molecule. We built using these processes actually just using yeast mechanisms with the right design of the pieces. We put them in yeast put some together automatically. This is not an  Call Michael Graff. This is just a regular photo micrograph. It's such a large molecule. We can see it with a light microscope. These are pictures over about it. A six second. Is this? The publication? We had just a short while ago, this is /, 580,000 letters of genetic code. It's the largest molecule ever made by humans of a Define structure, two or three hundred million molecular weight. If we pet print it out at attend font with no spacing. It takes a hundred and forty two pages just to print of this a genetic code. How do we, how do we activate this? Obviously with the virus? It's pretty simple. It's much more complicated dealing with bacteria. It's also simpler. When you go into a eukaryotes, like ourselves. You can just pop out the nucleus and popping. Another one. Then that's with tell you all heard about with cloning with bacteria and archaea. The chromosome is integrated into the cell, but we recently  So that we can do a complete to transplant of a chromosome from one cell to another and activate it. We purify the chromosome from one microbial species. Roughly. These two are as distant as human and mice out. We had a few extra Jean so we could select for this chromosome. We digested it, with enzymes to kill all the proteins and it was pretty stuff when we put this in the towel and you'll appreciate it are very sophisticated Graphics, hear the new chromosome went into the cell and we thought this might be as far as it went. But we tried to design the process a little bit further. This is a major mechanism of evolution right here. We find all kinds of species that have taken up a second chromosome. Or third one from somewhere, adding $5,000 new traits in a second to that species. So people who think of evolution is just one gene changing their time have missed much of biology.  There's an X called restriction, enzymes actually digest, DNA the chromosome. That was in the cell doesn't have one of the chromosomally put in. Does it got Express? And it recognize the other chromosome as foreign material chewed it up. And so, we ended up just with the cell with a new chromosome. It turned blue because of the genes we put in it and with a very short. Of time, all the characteristics of one species were lost and it converted totally into the new species based on the new software that we put in the cell, all the proteins change. The membranes changed, when we read the genetic code, is exactly what we had transferred in. So this may sound like genomic Alchemy, but we can buy moving the software DNA around a change things. A quite dramatically building on three and a half billion years of evolution.  And I've argued that we're about to perhaps create a new version of the Cambrian explosion where there's massive new speciation based on this digital design. Why do this? I think this is pretty obvious in terms of some of the needs for about to go from 6, 1/2 to 9 billion people over the next forty years to put it in context for myself. I was born in 1946. There's no three people on the planet for everyone of us that existed in 1946, with, in 40 years ago before we have trouble feeding providing fresh clean, water medicine fuel for the six and a half billion. It's going to be stretched to do it for 9, we use over five billion tonnes of coal, 30 billion + barrels of oil. That's a hundred million barrels a day.  When we try to think of biological processes or any process to replace that, it's going to be a huge challenge. Then of course, there's all that CO2 from this material, how that ends up in the atmosphere.  We now from our Discovery around the world have a database with about twenty million jeans, and I like to think of these as the design components of the future, the electronics Industry, only had a dozen or so components. And look at the diversity. That came out of that. We're limited here are primarily by the biological reality, and our imagination.  We now have techniques because of these rapid methods of synthesis to do what we're calling, tutorial genomics. We have the ability. Now to build a large robot that can make a million chromosome today. When you think a processing, these 20 million different genes are trying to optimize processor use to produce octane or to use Pharmaceuticals. A new vaccines. We can change this with a small team. Do more molecular biology than the last twenty years of all science and it's just standard selection. We can select for viability chemical or fuel production, vaccine production excetera.  This is a screen, snapshot of some true design. A software that we're working on to actually be able to sit down and design species in the computer. You know, we don't know necessarily. What will it look like? We know exactly what their genetic code. I'll look like we're focusing on. Now, a fourth-generation fuels you seen recently, corn to ethanol is just a bad experiment. We have 2nd and 3rd Generation fuels that'll be coming out relatively soon better sugar too much higher value of fuels like octane or different types of butanol, but the only way we think that the biology can have a Major Impact without further, increasing the cost of food and lemon. Its availability is, if we start with CO2 as its feedstock answer, we're working with designing sells out to go down this road, and we think will help the first fourth generation fuels  About 18 months sunlight and CO2 is one method.  But in our Discovery around the world, we have all kinds of other methods. This is an organism. We see described and 1996 that lives in the deep ocean. About a mile and a half deep. I almost at boiling water temperatures at takes, CO2 to methane using molecular hydrogen, as an energy source, we're looking to see if we can take captured CO2, which can easily be piped to sites convert that CO2 back into fuel to drive this process. So in a short. Of time, we think that we might be able to increase, but the basic question is of what is life. We're truly, you don't have modest goals of replacing the whole petrochemical industry.  Hey, if you can't do that at Ted, where can you become a major source of energy, but also, we're now working on using the same tools to come up with instant sets of vaccine. If you've seen this year with flu, we're always a year behind and a dollar short when it comes to the right vaccine. I think that can be changed by building,, North Royal vaccines in advance.  Here's what the future may begin to look like with changing now, The evolutionary tree speeding up Evolution with synthetic bacteria, Archaea, and eventually eukaryotes. We're a ways away from improving people. Our goal is just to make sure that we have a chance to survive long enough to maybe do that. Thank you very much.  Unbelievable.'''\n",
    "gcp[3] = '''I am a writer writing. Books is my profession but it's more than that. Of course. It is. Also my great Lifelong Love and Fascination and I don't expect that that's ever going to change. But that said something kind of peculiar has happened. Recently in my life. And in my career, which has caused me to have to sort of recalibrate my whole relationship with this work. And the peculiar thing is that I recently wrote this book, this Memoir called Eat, Pray, Love, which decidedly unlike, any of my previous books, went out in the world for some reason and became this big Mega sensation International. Bestseller thing, the result of which is that everywhere I go now, people treat me like I'm doomed. Seriously, dude, like they come up to me now at all worried and they say aren't you afraid aren't you afraid? You're never going to be able to top that aren't you? Afraid you're going to keep writing for your whole life and you're never again going to create a book that anybody in the world cares about at all ever again. So that's reassuring, you know, but it would be worse except for that. I happen to remember that over 20 years ago. When I first started telling people, when I was a teenager that I wanted to be a writer. I was met with the same kind of service to your base reaction and people would say, aren't you afraid you're never going to have any success or too afraid? The humiliation of rejection will kill. You aren't you afraid that you're going to work your whole life at this craft and nothing's ever going to come of it. You're going to die on a scrap heap of Broken Dreams with your mouth filled with bitter, Ash of failure. Like that, you know, the answer short answer to all those questions is yes. Yes. I am afraid of all those things and I always have been and I'm afraid of many, many more things besides that, you know, people can't even guess at like seaweed and and other things that are scary. But when it comes to writing, the thing that I've been thinking about lately and wondering about lately, is why, you know, is it rational, is it logical that anybody should be expected to be afraid of the work that they feel? They were put on this Earth to do, you know, I'm, and what is it specifically about creative Ventures? The seems to make us really nervous about each other's mental health. In a way that other careers kind of don't do. You know, I like my dad, for example, was a chemical engineer and I don't recall once in his 40 Years of chemical engineering, anybody asking him if he was afraid to be a chemical engineer, you know, it just didn't come like at 10. Block John, you know, how's it Go? And it it just didn't come up like that, you know, but to be fair, write chemical Engineers as a group, you know, haven't really earned a reputation over the centuries for being an alcoholic manic depressive. And we writers, you know, we kind of do have that reputation and not not just writers, but creative people across all genres. It seems have this reputation for being enormously, mentally unstable. And, you know, all you have to do is look at the very Grim, death count in the 20th century alone of a really magnificent creative minds, who died young and often at their own hands, you know, I'm in, even the ones who didn't literally commit, suicide seemed to be really undone by their gifts, you know, Norman mailer, just before he died last interview. He said, every one of my books has killed me a little more. An extraordinary statement to make about your life's work, you know, but we don't even blink when we hear somebody say this because we've heard that kind of stuff for so long and somehow we've completely internalized and accepted collectively this notion that creativity and suffering or somehow inherently linked and it Artistry in the end will always ultimately lead to anguish. And the question that I want to ask everybody here today is, are you guys all cool with that idea. I like, are you comfortable with that? Because you look at it even from an inch away and, you know, I'm not at all comfortable with that assumption. I think it's odious and I also think it's dangerous and I don't want to see it perpetuated into the next Century. I think better, if we encourage, you know, our great creative minds to live, you know, and and I definitely know that in my case, in my situation, it would be very dangerous for me to start sort of leaking down that dark path of assumption in a particularly good. The circumstance that I'm in right now in my career, which is, you know, like check it out. I'm pretty young. I'm only about 40 years old. I still have maybe another four Decades of work left in me and it's exceedingly likely that anything I write from this point. Forward is going to be judged by the world as the work that came after the freakish success of my last books. Right front. Leak is where all her friends are. Now it's exceedingly likely that my greatest success is behind me. You know, Jesus what a thought, you know, like that's the kind of thought that could lead a person to start drinking gin at 9 in the morning. And, you know, I don't want to go there, you know, I would prefer to keep doing this work that I love and so the question becomes how, you know, and and so it seems to me upon a lot of reflection that the way that I have to work. Now, in order to continue writing, is that I have to create some sort of protective psychological constructs, right? I have to do to find some way to have a Safe distance, you know between me as I am writing and my very natural anxiety about what the reaction to that writing is going to be from now on and and as I've been looking over the last year for like models for how to do that. I've been sort of looking across time and I've been trying to find like other societies to see if they might have had better and saying her ideas than we have about how to help creative. People should have managed, the inherent emotional risks of creativity. And that search has led me to ancient Greece and ancient Rome. So stay with me cuz it's a circle around back. But ancient Greece. In ancient Rome people did not happen to believe that creativity came from human beings back then. Okay, people believed the creativity was this Divine attendant spirit that came two human beings from some distant and unknowable source for a distant and unknowable reasons. The Greeks famously called these Divine attendant, Spirit of creativity, demons Socrates. Famously believe that he had a man who spoke wisdom to him from afar. The Romans had the same idea, but they called that sort of disembodied, creative, Spirit, a genius, which is great. Cuz the Romans did not actually think that a genius was a particularly clever individual. They believe that a genius with the sort of magical Divine entity, who was believed to literally live in the walls of an artist's studio, kind of like, Dobby the house elf and who would come out and have been visibly assist the artist with their work and would shape the outcome of that work. So brilliant, there it is right there, that distance, but I'm talking about that. Psychological contract to protect you from the results of your work, you know, on and everyone knew that this is how it functioned, right? So the ancient artist was protected from certain things like, for example, too much narcissism, right? If your work was brilliant, couldn't take all the credit for it. Everybody knew you had this like this and body genius who helped you if your work bombed Mountain Time. Will your fault, you know, I'm everyone knew your Genius was kind of lame. And this is how people thought about creativity in the West for a really long time. And then the Renaissance came and everything changed. We had this big idea and a big idea was let's put the individual human being at the center of the universe, right above all gods and Mysteries. And there's no more room for like, mystical creatures who take dictation from the Divine. And it's the beginning of rational humanism. And it done. People started to believe that creativity came completely from the self of the individual. And for the first time in history, you start to hear people referring to this or that Artist as being a genius rather than having a genius. And I got to tell you, I think that was a huge error, you know, I think that allowing somebody like one mere person to believe that he or she is like the vessel, you know, like the font and the essence of the source of all Divine creative, unknowable Eternal mystery is just like a smidge, too much responsibility to put on one. Fragile human psyche. It's like asking somebody to swallow the sun. You know, it just completely warped and distorts he goes and it creates all these unmanageable expectations about performance and I think the pressure of that has been killing off our artist for the last five hundred years. And if this is true and I think it is true. The question becomes, you know, what? Now, you know, can we do this differently, maybe go back to some more ancient understanding about the relationship between humans and the creative mystery. Maybe not, you know, like I'm maybe we can't just erase Five Hundred Years of rational humanist, excited in 180 minutes Peach and there's probably people in this audience who would raise like really legitimate. Scientific suspicions about the notion of basically fairies who follow people around like rubbing fairy juice on their projects and stuff. Like I am not going to bring you all along with me on this. Question that I kind of want to poses. You know, why not? Why not think about it this way, because it makes as much sense as anything else. I have ever heard in terms of explaining the other maddening capriciousness of the creative process a process, which, as anybody who's ever tried to make something, which is to say. As basically, everyone here knows does not always behave rationally and in fact can sometimes feel downright, paranormal. I had this encounter recently where I met the extraordinary American poet Ruth Stone who's now in her nineties, but she's going to put her entire life and she told me that when she was growing up in rural, Virginia, she would be out working in the field and she said she would like feel and hear of homecoming at her from Over the landscape and she said it was like a thunderous train of air and it would come barreling down at her over the landscape and when she felt it coming cuz it was like shake the Earth under her feet. She knew that she had only one thing to do at that point and that was to Words run like hell at you, like run like hell to the house and should be getting chased by his phone. And the whole deal with that. She had to get to a piece of paper and a pencil fast enough. So that when it's under through her she could collect it and grab it on the page. And other times, she wouldn't be fast enough. So she be like running and running running and she wouldn't get to the house in the poem would like Barrel through her and she would miss it. And she said it would continue on across the landscape looking as she put it for another poet and now and then there were these times, this is a piece. I never forgot. She said that there were moments when she would almost missed it, right? So she's like, running in the house and she's looking for the paper in the poem passes through her and she grabs a pencil just as it's going through her. And then she said it was like she would reach out with her other hand and she would catch it to catch the poem by its tail and she would pull it backwards into her body as she was transcribing on the page. And in these instances, the poem would come up on the page, perfect and intact. But backwards from the last word. First.  So when I heard that I was like, that's unbelievable. It's uncanny, that's exactly what my creative process is like.  Not at all, what my creative process. I'm not the pipeline, you know, like I'm a mule and the way that I have to work cuz I have to get up at the same time every day and like, sweat and labor, and like Barrel through. It really off early. But even I and my Miu lishness even I have brushed up against that thing, you know, at times. And I would imagine that a lot of you have to, you know, like even I have had worker ideas come through me from a source that I honestly cannot identify. And what is that thing? And how are we to relate to it in a way, that will not make us lose our minds, but in fact, might actually keep us sane and for me, the best contemporary example that I have had to do that is the musician, Tom Waits who I got to interview several years ago on a magazine assignment. We were talking about this and you know what, I mean? For most of his life, he was pretty much the embodiment of the tormented contemporary modern artists, you know, like trying to control and manage and dominate these uncontrollable creative impulses, you know that were totally internalized, but then he got older and he got calmer.  And one day he was driving on the freeway Los Angeles. He told me in this is when it all changed for him and he's like speeding along and all the sudden he hears this little fragment of Melody, you know that comes into his head as inspiration. Often comes Elusive and tantalizing and he wants it, you know, it's gorgeous in any lungs for it. But he has no way to get it. He doesn't have a piece of paper. Doesn't have a pencil. It doesn't have a tape recorder. So he starts to feel all that old anxiety, start to rise and him, like, I'm going to lose this thing, you know, I'm in line to be haunted by the song forever and I'm not good enough. I can't do it. And instead of panicking. He just thought he just stopped at home as a process. I need something completely novel. He just looked up at the sky and he said, excuse me. Can you not see that? I'm driving.  Do I look like I can write down a song right now, you know, if you really want to exist, come back at a more opportune moment. When I can take care of you, otherwise, go bother somebody else today. Don't bother Leonard Cohen, you know, and and his whole work process changed after that, not the work, the work was still the often times as dark as ever, you know, but the process and the heavy anxiety around, it was released when he took the Jeannie, the genie is out of him. Where was causing nothing but trouble and released it kind of back where it came from and realize that this didn't have to be this internalized tormented thing. It could be this peculiar wondrous as our collaboration kind of conversation between Tom and the strange external thing. That was not quite Tom.  So when I heard that story is starting to shift a little bit, the way that I work too, and it already saved me. Once. This idea. It's saved me, when I was in the middle of writing Eat. Pray Love. And I fell into one of those to the pits of Despair that we also into, and we're working on something that's not coming. And you start to think this is going to be a disaster. This would be the worst book ever. Not just that, but the worst book ever written and them, and I started think I should just dump this project, you know, but then I remembered Tom talking to the open air and I, I, I tried it. So I just lifted my face up from the manuscript and I directed my comments to an empty corner of the room. And I, I said aloud. Listen, you thing you and I both know that if this book isn't brilliant, that is not entirely my fault, right. Cuz you can see that I am putting everything I have into this, you know, I don't have any more than this. So if you wanted to be better, then you got to show up and do your part of the deal. Okay, but if you don't do that, you know, what the hell with it. I'm going to keep writing anyway, because that's my job and I would please like the record to reflect today.  I showed up for my part of the job.  because,  In the end. It's like this OK centuries ago in the deserts of North Africa. People used to gather for these Moonlight dances of sacred dancing music that would go on for hours and hours until dawn. And they're always magnificent because the dancers were professionals and they were terrific, right? But every once in a while very rarely something would happen and one of these performers would actually become Transcendent and I know you know what I'm talking about because I know you've all seen at some point in your life, a performance like this, you know, and it was like time would stop and the dancer with your step there, some kind of portal and he wasn't doing anything different than he'd ever done, you know, a Thousand Nights before, but everything with a line and all the sudden he would no longer appear to be merely human. You know, he would be like lit from within and lit from below and all like lit up on fire with divinity. And when this happened back then people knew it for what it was, you know, they called it by its name, they would put their hands together and they would start to chant Allah.  Allah God. God God, that's God, you know, curious historical footnote when the Moors invaded, southern Spain. They took this custom with them and the pronunciation changed over the centuries. From Allah Allah, Allah to Olay Olay Olay, which you still here in both sites and in Flamingo dances and Spain when a performer has done something impossible and Magic. A lot of Leo, Leo Le magnificent Bravo, incomprehensible. There. It is. A glimpse of God, which is great because we need that but the tricky bit comes the next morning, right? For the dancer himself. When he wakes up and discovers that it's Tuesday 11 a.m. And he's no longer a glimpse of God. He's just an aging mortal with really bad knees and you know, maybe he's never going to ascend to that height again and maybe nobody will ever chant God's name again as he spins. And what is he then to do with the rest of his life. This is hard.  This is one of the most painful reconciliations to make in a creative life, you know, but maybe it doesn't have to be quite so full of Anguish. If you never happened to believe in the first place that the most extraordinary aspects of your being came from you, but maybe if you just believe that they were on loan to you, you know, from some unimaginable source for some Exquisite portion of your life to be passed along when you're finished with somebody else.  And, you know, if we think about it this way, it starts to change everything. You know, this is how I started to think in. This is certainly how I was thinking about it in the last few months, you know, as some I've been working on the book that will soon be published as the dangerously frightening Lee over anticipated, follow-up to my freakish success and and I'm going to have to sort of keep telling myself when I get really psyched out about that is I don't be afraid, don't be daunted, just do your job continue to show up for your piece of it. Whatever that might be if your job is to dance, do your dance? If the Divine cockeyed genius assigned to your case decides, to let some sort of wonderment, he glimpsed for just one moment through your efforts than Olay. And if not do your dance, anyhow, and do late, you none, the less. I believe this, and I feel like we must teach it a late. You none. The last just for having the sheer human love and stubbornness to keep showing.  Thank you.  Thank you.'''"
   ]
  },
  {
   "cell_type": "code",
   "execution_count": 8,
   "id": "d1216dac-8304-4837-a75a-5f766d9c4c92",
   "metadata": {},
   "outputs": [],
   "source": [
    "aws = ['' for i in range(4)]\n",
    "aws[0] = '''Your position in life comes to seem not accidental.'''\n",
    "aws[1] = '''I'm gonna talk to you about some stuff that's in this book of mine that I hope will resonate with other things that you've already heard. And I'll try to make some connections myself in case you missed them. But I want to start with what I call the official dogma. The official dogma of what the official dogma of all Western industrial societies and the official dogma runs like this. If we are interested in maximizing the welfare of our citizens, the way to do that is to maximize individual freedom, the reason for this is both that freedom is in and of itself good, valuable, worthwhile, essential to being human. And because if people have freedom, then each of us can act on our own to do the things that will maximize our welfare. And no one has to decide on our behalf. The way to maximize freedom is to maximize choice. The more choice people have, the more freedom they have and the more freedom they have, the more welfare they have. This, I think is so deeply embedded in the water supply that it wouldn't occur to anyone to question it. And it's also deeply embedded in our lives. I'll give you some examples of what modern progress has made possible for us. This is my supermarket, Not such a Big one. I want to say, just a word about salad dressing. 175 salad dressings in my supermarket. If you don't count the 10 extra virgin olive oils and 12 balsamic vinegars. You could buy to make a very large number of your own salad dressings, in the off chance that none of the 175 the store has on offer suits you. So this is what the supermarket is like. And then you go to the consumer electronics store to set up a stereo system, speakers, cD player, tape player tuner amplifier. And in this one single consumer electronics store, there are that many stereo systems. We can construct 6.5 million different stereo systems out of the components that are on offer in one store. You gotta admit that's a lot of choice in other domains. The world of uh communications, there was a time when I was a boy when you could get any kind of telephone service you wanted. As long as it came from Ma Bell, you rented your phone. You didn't buy it. One consequence of that by the way is that the phone never broke and those days are gone. We now have an almost unlimited variety of phones, especially in the world of cell phones. These are cell phones of the future. My favorite is the middle one, the Mp three player nose, hair trimmer and creme brulee torch. And if Mhm. If by some chance you haven't seen that in your store yet, you can rest assured that one day soon you will and what this does is it leads people to walk into their stores asking this question. And do you know what the answer to this question now is the answer is no. It is not possible to buy a cell phone that doesn't do too much. So in other aspects of life that are much more significant than buying things. The same explosion of choice is true health care. It is no longer the case in the United States that you go to the doctor and the doctor tells you what to do. Instead you go to the doctor and the doctor tells you what we could do A or we could do be A. Has these benefits and these risks. B has these benefits and these risks. What do you want to do? And you say doc? What should I do? And the doc says A. Has these benefits and risks and B. Has these benefits of risks. What do you want to do? And you say if you were me doc, what would you do? And the doc says, but I'm not you. And the result is we call it patient autonomy. Which makes it sound like a good thing. But what it really is is a shifting of the burden and the responsibility for decision making from somebody who knows something namely the doctor, somebody who knows nothing and is almost certainly sick and thus not in the best shape to be making decisions namely the patient. Uh There's enormous marketing of prescription drugs to people like you and me, which if you think about it makes no sense at all. Since we can't buy them, why do they market to us? If we can't buy them? The answer is that they expect us to call our doctors the next morning and ask for our prescriptions to be changed. Something as dramatic as our identity is now become a matter of choice. Uh, as the slide is meant to indicate, we get to, we don't inherit an identity. We get to invent it and we get to reinvent ourselves as often as we like. And that means that every day when you wake up in the morning you have to decide what kind of person you want to be um, in with respect to marriage and family. There was a time when the default assumption that almost everyone had is that you got married as soon as you could and then you started having kids as soon as you could. The only real choice was who not when and not what you did after. Nowadays. Everything is very much up for grabs. I teach wonderfully intelligent students and I assign 20% less work than I used to and it's not because they're less smart and it's not because they're less diligent. It's because they are preoccupied asking themselves should I get married or not? Should I get married now? Should I get married later? Should I have kids first or a career first. All of these are consuming questions and they're going to answer these questions whether or not it means not doing all the work I assign and not getting a good grade in my courses and indeed they should. These are important questions to answer work. We are blessed as Carl was pointing out with the technology that enables us to work every minute of every day from any place on the planet except the Randolph hotel. Yeah. There is one corner by the way that I'm not going to tell anybody about where you actually, where the, where the Wifi works. I'm not telling you about it because I want to use it. So what this means this incredible freedom of choice we have with respect to work is that we have to make a decision again and again and again about whether we should or shouldn't be working. We can go to watch our kid play soccer and we have our cell phone on one hip and our blackberry on our other hip and our laptop presumably on our laps. And even if they're all shut off every minute that we're watching our kid mutilate a soccer game. We are also asking ourselves, should I answer this cell phone call, Should I respond to this email? Should I draft this letter? And even if the answer to the question is no, it's certainly going to make the experience of your kid's soccer game very different than it would have been. So everywhere we look big things and small things, material things and lifestyle things, Life is a matter of choice and the world we used to live in looked like this. That is to say there were some choices, but not everything was a matter of choice. And the world we now live in looks like this. And the question is, is this good news or bad news? And the answer is yes. We all know what's good about it. So I'm going to talk about what's bad about it. All of this choice has two effects, two negative effects on people. One effect paradoxically is that it produces paralysis rather than liberation with so many options to choose from. People find it very difficult to choose at all. I'll give you one very dramatic example of this. A study that was done of investments in voluntary retirement plans uh colleague of mine got access to um investment records from vanguard, the gigantic mutual fund company of about a million employees and about 2000 different workplaces. And what she found is that for every 10 mutual funds, the employer offered Rate of participation went down 2%. You offer 50 funds, 10% fewer employees participate than if you only offer five. Why? Because with 50 funds to choose from. It's so damn hard to decide which funds to choose. That you'll just put it off till tomorrow and then tomorrow and then tomorrow and tomorrow and tomorrow. And of course tomorrow never comes understand that not only does this mean that people are going to have to eat dog food when they retire because they don't have enough money put away. It also means That making the decision is so hard that they pass up significant matching money from the employer by not participating. They are passing up as much as $5,000 a year from the employer who would happily match their contribution. So paralysis is a consequence of having too many choices. And I think it makes the world look like this. You really want to get the decision right, if it's for all eternity, right? You don't want to pick the wrong mutual fund or even the wrong salad dressed. So that's one effect. The second effect is that even if we manage to overcome the paralysis and make a choice we end up less satisfied with the result of the choice than we would be if we have fewer options to choose from. And there are several reasons for this. One of them is that with a lot of different salad dressings to choose from if you buy one and it's not perfect and what salad dressing is, it's easy to imagine that you could have made a different choice that would have been better. And what happens is this imagined alternative induces you to regret the decision you made. And this regret subtracts from the satisfaction you get out of the decision you made. Even if it was a good decision, the more options there are, the easier it is to regret anything at all. That is disappointing about the option that you chose second, what economists call opportunity costs. Dan Gilbert made a big point this morning of talking about how, how much the way in which we value things depends on what we compare them to. Well, when there are lots of alternatives to consider, it is easy to imagine the attractive features of alternatives that you reject uh that make it you less satisfied with the alternative that you've chosen. Here's an example for those of you who are new Yorkers. I apologize, but here's what you're supposed to be thinking. Here's this couple on the Hamptons, very expensive real estate, gorgeous beach. Beautiful day. They have it all to themselves. What could be better? Well, damn it. This guy is thinking, it's august. Everybody in my Manhattan neighborhood is a way I could be parking right in front of my building and he spends two weeks nagged by the idea that he is missing the opportunity day after day to have a great parking space. Opportunity costs subtract from the satisfaction we get out of what we choose even when what we choose is terrific. And the more options there are to consider, the more attractive features of these options are going to be reflected by us as opportunity costs. Here's another example. Mhm. Now, now this cartoon makes a lot of points. It makes points about living in the moment as well. And probably about doing things slowly. But one point it makes is that whenever you're choosing one thing, you're choosing not to do other things and those other things may have lots of attractive features and it's gonna make what you're doing less attractive third escalation of expectations. This hit me when I went to replace my jeans, I wear jeans almost all the time. And there was a time when jeans came in one flavor and you bought them and they fit like crap and they were incredibly uncomfortable. And if you wore them long enough and washed them enough times, they started to fit feel okay. So I went to replace my jeans after years and years of wearing these old ones and I said, I, you know, go on a pair of jeans, here's my size. And the shopkeeper said, do you want slim fit, easy fit, relaxed fit, you want button fly or zipper fly, you want stone washed or acid wash. Do you want them distressed? You want boot cut, you want tapered, blah, blah, blah on and on he went, my jaw dropped. And after I recovered, I said, I want the kind that used to be the only kind. Yeah, yeah. He had no idea what that was. So I spent an hour trying on all these damn jeans and I walked out of the store truth with the best fitting jeans I had ever had. I did better. All this choice made it possible for me to do better. But I felt worse. Why were a whole book to try to explain this to myself? The reason is, yeah, the reason I felt worse is that with all of these options available, My expectations about how good a pair of jeans should be went up. I had very low exposure. Had no particular expectations when they only came in one flavor, when they came in. 100 flavors. Damn it. One of them should have been perfect. And what I got was good but it wasn't perfect. And so I compared what I got to what I expected and what I got was disappointing in comparison to what I expected. Adding options to people's lives. Can't help but increase the expectations people have about how good those options will be and what that's going to produce is less satisfaction with with results. Even when they're good results. Nobody in the world of marketing knows this because if they did, you wouldn't all know what this was about. The truth is more like this. The reason that everything was better back when everything was worse is that when everything was worse, it was actually possible for people to have experiences that were a pleasant surprise. Nowadays, the world we live in. We affluent, industrialized citizens with perfection. The expectation, the best you can ever hope for is that stuff is as good as you expect it to be. You will never be pleasantly surprised because your expectations. My expectations have gone through the roof. The secret to happiness. This is what you all came for. The secret to Happiness is low expectations. Yeah. Mhm Yeah, I want to say just a little autobiographical moment that I actually am married to a wife and and she's really quite wonderful. I couldn't have done better, I didn't settle. Uh but settling isn't always such a bad thing. Finally, one consequence of buying a bad fitting pair of jeans when there is only one kind to buy is that when you are dissatisfied and you ask why who's responsible? The answer is clear, the world is responsible. What could you do when there are hundreds of different styles of jeans available and you buy one that is disappointing and you ask why who's responsible? It is equally clear that the answer to the question is you you could have done better with a with 100 different kinds of jeans on display. There is no excuse for failure. And so when people make decisions and even the results of the decisions are good, they feel disappointed about them. They blame themselves. Clinical depression has exploded in the industrial world. In the last generation, I believe a significant, not the only, but a significant contributor to this explosion of depression. And also suicide is that people have experiences that are disappointing because their standards are so high and then when they have to explain these experiences to themselves, they think they're at fault. And so the net result is that we do better at in general objectively and we feel worse. So, let me remind you, this is the official dogma, the one that we all take to be true and it's all false. It is not true. There's no question that some choice is better than none, but it doesn't follow from that, that more choice is better than some choice. There's some magical amount. I don't know what it is. I'm pretty confident that we have long since passed the point where options improve our welfare. Now, as a policy matter, I'm almost done as a policy matter. The thing to think about is this, what enables all of this choice in industrial societies is material affluence. There are lots of places in the world and we have heard about several of them where their problem is not that they have too much choice. Their problem is that they have too little. So, the stuff I'm talking about is the peculiar problem of modern, affluent Western societies. And what is so frustrating and infuriating is this steve Levitt talked to you yesterday about how these expensive and difficult to install uh, infant child seats don't help. It's a waste of money. What I'm telling you is that these expensive, complicated choices. It's not simply that they don't help. They actually hurt. They actually make us worse off if some of what enables people in our societies to make all of the choices we make were shifted to societies in which people have too few options. Not only would those people's lives be improved, but ours would be improved also. This is what economists call a Peredo, improving move income redistribution will make everyone better off, not just poor people because of how all this excess choice plays us. So to conclude, you're supposed to read this cartoon and being a sophisticated person, say, what does this fish? No, you know, nothing is possible in this fish bowl, uh impoverished imagination, a myopic view of the world. And that's the way I read it. At first. The more I thought about it. However, the more I came to the view that this fish knows something, because the truth of the matter is that if you shatter the fish bowl so that everything is possible, you don't have freedom, You have paralysis. If you shatter this fish bowl so that everything is possible, you decrease satisfaction, you increase paralysis and you decrease satisfaction. Everybody needs a fish bowl. This one is almost certainly too limited, perhaps even for the fish, certainly for us. But the absence of some metaphorical fish bowl is a recipe for misery and I suspect disaster. Thank you very much'''\n",
    "aws[2] = '''Uh huh. You to you know, I've talked about some of these projects before about the human genome and what that might mean and discovering new sets of genes. We're actually starting at a new point. We've been digitizing biology and now we're trying to go from that digital code into a new phase of biology with designing and synthesizing life. So we've always been trying to ask big questions. What is life is something that I think many biologists have been trying to understand at various levels. We've tried various approaches, paring it down to minimal components. We've been digitizing it now for almost 20 years when we sequenced the human genome, it was going from the analog world of biology into the digital world of the computer. Now we're trying to ask can we regenerate life or can we create new life out of this digital universe. This is the map of a small organism. Mycoplasma genitally um that has the smallest genome for a species that can self replicate in the laboratory. And we've been trying to just see if we can come up with the even smaller genome, We were able to knock out on the order of 100 genes out of the 500 or so that are here. But when we look at its metabolic map, it's relatively simple compared to ours. Trust me, this is simple. But when we look at all the genes that we can knock out one at a time, it's very unlikely that this would yield a living cell. So we decided the only way forward was to actually synthesize this chromosome. So we could vary the components. To ask some of these most fundamental questions. And so we started down the road of can we synthesize chromosome? Can chemistry permit making these really large molecules where we've never been before. And if we do, can we boot up a chromosome chromosome by the way? It's just a piece of inert chemical material. So our pace of digitizing life has been increasing at an exponential pace. Our ability to write the genetic code has been moving pretty slowly but has been increasing in our latest point. Would put it on now on exponential curve. We started this over 15 years ago. It took several stages. In fact starting with a bioethical review before we did the first experiments. But it turns out synthesizing DNA is very difficult. Uh There's tens of thousands of machines around the world that makes small pieces of DNA 30 to 50 letters in length and it's a degenerate process. So the longer you make the piece the more errors there are. So we had to create a new method for putting these little pieces together and correct all the errors. And this was our first attempt starting with the digital information of the genome of phi X 1 74. It's a small virus that kills bacteria. We designed the pieces went through our error correction and had a DNA molecule about 5000 letters. The exciting phase came when we took this piece of inner chemical and put it in the bacteria. And the bacteria started to read this genetic code made the viral particles, the viral particles and were released from the cells and came back and killed the E. Coli. I was talking to the oil industry recently and I said they clearly understood that model. Um they they laugh more than you guys are. Ah And so we think this is a situation where the software can actually build its own hardware in a biological system. But we wanted to go much larger. We wanted to build the entire bacterial chromosome. It's over 580,000 letters of genetic code. So we thought we'd build them in cassettes the size of the viruses. So we could actually vary the cassettes to understand what the actual components of a living cell are. Design is critical. And if you're starting with digital information in the computer that digital information has to be really accurate. When we first sequenced this genome in 1995, the standard of accuracy was one error for 10,000 base pairs. We actually found on re sequencing at 30 errors. Had we used that original sequence, it never would have been able to be booted up. Part of the design is designing pieces that are 50 letters long that have to overlap with all the other 50 letter pieces to build smaller subunits we have to design so they can go together. We design unique elements into this. You may have read that we put watermarks in Think of this, we have a four letter genetic code agt triplets of that letters of those letters code for roughly 20 amino acids. That there is a single letter designation for each of the amino acids. So we can use the genetic code to write out words, sentences, thoughts initially all we did was autograph it. Uh some people are disappointed. There was not poetry. We designed these pieces so we can just chew back with enzymes, there's enzymes that repair them and put them together. And we started making pieces starting with pieces that were 5 to 14,000 letters. Put those together to make 24,000 letter pieces. Then put sets of those going up to 72,000 at each stage. We grew up these pieces in abundance. So we could sequence them because we're trying to create a process that's extremely robust that you can see in a minute we're trying to get to the point of automation. So this looks like a basketball playoff. When we get into these really large pieces over 100,000 base pairs, they won't any longer grow readily in e coli it exhausts all the modern tools of molecular biology. And so we turned to other mechanisms. We knew there's a mechanism called homologous recombination that biology uses to repair DNA that can put pieces together. Here's an example of it. There's an organism called Dina Caucus, Radio Durand's that can take three million rads of radiation you can see in the top panel it's chromosome just gets blown apart. 12-24 hours later. It put it back together exactly as it was before. We have thousands of organisms that can do this. These organisms can be totally desiccated. They can live in a vacuum. I am absolutely certain that life can exist in outer space, move around, find a new acquis environment. In fact, Nasa has shown a lot of this is out there. Here's an actual micrografx of the molecule we built using these processes. Actually just using yeast mechanisms with the right design of the pieces, we put them into yeast, puts them together automatically. Uh This is not an electron micrografx. This is just a regular photo micrografx. It's such a large molecule. We can see it with a light microscope. These are pictures over about a six second period. So this is the publication we had just a short while ago. This is over 580,000 letters of genetic code, it's the largest molecule ever made by humans of a defined structure. It's over 300 million molecular weight. If we printed out at a 10 font with no spacing that takes 142 pages. Just to print this genetic code. Well, how do we boot up a chromosome? How do we activate this? Obviously with the virus, it's pretty simple, it's much more complicated dealing with bacteria. It's also simpler when you go into, you carry outs like ourselves, you can just pop out the nucleus and pop in another one. And that's what you've all heard about with cloning with bacteria and archaea. The chromosome is integrated into the cell. But we recently showed that we can do a complete transplant of a chromosome from one cell to another and activate it. We purified a chromosome from one microbial species, roughly these tour as distant as human and mice. We had a few extra genes so we could select for this chromosome. We digested it with enzymes to kill all the proteins. Uh and it was pretty stunning when we put this in the cell and you'll appreciate our very sophisticated graphics here. Uh The new chromosome went into the cell. In fact we thought this might be as far as it went, but we tried to design the process a little bit further. This is a major mechanism of evolution. Right here. We find all kinds of species that have taken up a second chromosome or a third one from somewhere adding thousands of new traits in a second to that species. So people who think of evolution is just one gene changing at a time have missed much of biology. There's enzymes called restriction enzymes that actually digest DNA. The chromosome that was in the cell doesn't have won the chromosome we put in does it got expressed and it recognized the other chromosome as foreign material, chewed it up. And so we ended up just with the cell with the new chromosome, it turned blue because of the genes we put in it. And with a very short period of time, all the characteristics of one species were lost and it converted totally into the new species. Based on the new software that we put in the cell, all the proteins changed. The membranes changed when we read the genetic code. It's exactly what we had transferred in. So this may sound like genomic alchemy, but we can, by moving the software of DNA around change things quite dramatically. Now, I've argued this is not genesis, this is building on 3.5 billion years of evolution. I've argued that we're about to perhaps create a new version of the Cambrian explosion where there's massive new speciation based on this digital design. Why do this? I think this is pretty obvious in terms of some of the needs were about to go from 6.5 to 9 billion people over the next 40 years. To put it in context for myself, I was born in 1946. There's now three people on the planet. For every one of us that existed in 1946. Within 40 years, there'll be four we have trouble feeding, providing fresh clean water, medicines fuel for the 6.5 billion. It's going to be stretched to do it for nine. We use over five billion tons of coal, 30 billion plus barrels of oil. That's 100 million barrels a day. When we try to think of biological processes or any process to replace that, it's going to be a huge challenge. Then of course there's all that co two from this material that ends up in the atmosphere. We now from our discovery around the world, have a database with about 20 million genes. And I like to think of these as the design components of the future. The electronics industry only had a dozen or so components. And look at the diversity that came out of that. We're limited here primarily by a biological reality and our imagination. We now have techniques because of these rapid methods of synthesis to do what we're calling combinatorial genomics. We have the ability now to build a large robot that can make a million chromosomes a day. When you think of processing these 20 million different genes are trying to optimize processes to produce octane or to produce pharmaceuticals, new vaccines, we can change just with a small team, do more molecular biology than the last 20 years of all science. And it's just standard selection. We can select for viability, chemical or fuel production, vaccine production etcetera. This is a screen snapshot of some true design a software that we're working on to actually be able to sit down and design species in the computer. Um, you know, we don't know necessarily what we look like. We know exactly what their genetic code looks like. We're focusing on now. 1/4 generation fuels you've seen recently, corn to ethanol is just a bad experiment. We have 2nd and 3rd generation fuels that are becoming out relatively soon that are sugar too much higher value fuels like octane or different types of beauty in all. But the only way we think that biology can have a major impact without further increasing the cost of food and eliminates availability is if we start with CO two as its feedstock. And so we're working with designing cells to go down this road and we think we'll have the first 4th generation fuels in about 18 months Sunlight. & Co two is 1 method. But in our discovery around the world, we have all kinds of other methods. This is an organism we described in 1996. It lives in the deep ocean about a mile a half deep, almost at boiling water temperatures. It takes co two to methane using molecular hydrogen as an energy source. We're looking to see if we can take captured CO two which can easily be piped to sites convert that CO two back into fuel to drive this process. So in a short period of time we think that we might be able to increase what the basic question is of what is life? We're truly have modest goals of replacing the whole petrochemical industry. Um You know, Yeah. If you can't do that at ted where can you become a major source of energy? But also we're now working on using these same tools to come up with instant sets of vaccines you've seen this year with flu were always a year behind and a dollar short when it comes to the right vaccine, I think that can be changed by building combinatorial vaccines in advance. Here's what the future may begin to look like with changing now. The evolutionary tree uh speeding up evolution with synthetic bacteria, archaea, uh and eventually you carry outs. Um We're a ways away from improving people. Our goal is just to make sure that we have a chance to survive long enough to maybe do that. Thank you very much. I don't believe that. Yeah.'''\n",
    "aws[3] = '''I am a writer writing books is my profession, but it's more than that of course it is also my great lifelong love and fascination and I don't expect that that's ever going to change. But that said something kind of peculiar has happened recently in my life and in my career, which has caused me to have to sort of recalibrate my whole relationship with this work. And the peculiar thing is that I recently wrote this book this memoir called Eat Pray Love, which decidedly unlike any of my previous books, went out in the world for some reason and became this big mega sensation international bestseller thing, the result of which is that everywhere I go now people treat me like I'm doomed, um seriously doomed, doomed. Like they come up to me now all worried and they say, aren't you afraid, aren't you afraid you're never gonna be able to top that um aren't you afraid you're going to keep writing for your whole life and you're never again going to create a book that anybody in the world cares about at all ever again? So that's reassuring, you know, But it would be worse except for that. I happened to remember that over 20 years ago when I first started telling people when I was a teenager that I wanted to be a writer, I was met with this same kind of sort of fear based reaction and people would say, aren't you afraid you're never going to have any success? Aren't you afraid the humiliation of rejection will kill you. Aren't you afraid that you're going to work your whole life at this craft and nothing's ever going to come of it and you're going to die on a scrap heap of broken dreams with your mouth filled with bitter ash of failure like that, you know? And the answer short answer to all those questions is yes. Um yes, I'm afraid of all those things and I always have been and I'm afraid of many, many more things besides that. You know, people can't even guess at like um seaweed and other things that are scary. But when it comes to writing, the thing that I've been sort of thinking about lately and wondering about lately is why, you know, is it rational? Is it logical that anybody should be expected to be afraid of the work that they feel they were put on this earth to do? You know? And what is it specifically about creative Ventures that seems to make us really nervous about each other's mental health in a way that other careers kind of don't do you know? Like my dad for example, was a chemical engineer and I don't recall once in his 40 years of chemical engineering, anybody asking him if he was afraid to be a chemical engineer, you know, it just didn't come like get chemical engineering block, john, you know, how's it go? And it just didn't come up like that, you know? But to be fair right, chemical engineers as a group, you know, haven't really earned a reputation over the centuries for being alcoholic, manic depressives. Um and we writers, you know, we kind of do have that reputation and not not just writers, but creative people across all genres, it seems have this reputation for being enormously mentally unstable and you know, all you have to do is look at the very grim death count in the 20th century alone of really magnificent creative minds who died young and often at their own hands. And even the ones who didn't literally commit suicide seemed to be really undone by their gifts. You know, norman mailer just before he died. Last interview, he said, every one of my books has killed me a little more, an extraordinary statement to make about your life's work, but we don't even blink when we hear somebody say this because we've heard that kind of stuff for so long, and somehow we've completely internalized and accepted collectively this notion that creativity and suffering are somehow inherently linked, and that artistry in the end will always ultimately lead to anguish. And the question that I want to ask everybody here today is um are you guys all cool with that idea? Like, are you comfortable with that? Because you look at it even from an inch away and you know, I'm not at all comfortable with that assumption, I think it's odious, and I also think it's dangerous and I don't want to see it perpetuated into the next century, I think better if we encourage our great creative minds to live, you know. Um and uh and I definitely know that in my case, in my situation it would be very dangerous for me to start sort of leaking down that dark path of assumption, particularly given the circumstance that I'm in right now in my career, which is, you know, Check it out, I'm pretty young, I'm only about 40 years old, I still have maybe another four decades of work left in me and it's exceedingly likely that anything I write from this point forward is going to be judged by the world as the work that came after the freakish success of my last book. Right? Um, I should just put it bluntly, because we're all sort of friends here now, it's exceedingly likely that my greatest success is behind me, you know? So jesus, what a thought, you know, like that's the kind of thought that could lead a person to start drinking gin at nine o'clock in the morning, and, you know, I don't want to go there, you know, I would prefer to keep doing this work that I love. And so the question becomes how, you know, and so it seems to me upon a lot of reflection that the way that I have to work now in order to continue writing is that I have to create some sort of protective psychological construct, right? I have to sort of find some way to have a safe distance between me as I am writing and my very natural anxiety about what the reaction to that writing is going to be from now on. And as I've been looking over the last year for models, for how to do that, I've been sort of looking across time and I've been trying to find other societies to see if they might have had better and saner ideas than we have about how to help creative people sort of manage the inherent emotional risks of creativity. And that search has led me to ancient Greece and Ancient Rome, so stay with me because it does circle around back. But ancient Greece in ancient Rome people did not happen to believe that creativity came from human beings back then. Okay, people believed that creativity was this divine attendant spirit that came to human beings from some distant and unknowable source for distant and unknowable reasons the Greeks famously called these divine attendant spirits of creativity. Damon's Socrates famously believed that he had a Damon who spoke wisdom to him from afar. The romans had the same idea, but they called that sort of disembodied creative spirit a genius which is great because the romans did not actually think that a genius was a particularly clever individual. They believed that a genius was this sort of magical divine entity who was believed to literally live in the walls of an artist studio kind of like Dobby the house elf and who would come out and sort of invisibly assist the artist with their work and would shape the outcome of that work so brilliant. There it is right there that distance that I'm talking about, that psychological construct to protect you from the results of your work. You know, and everyone knew that this is how it functioned, right? So the ancient artist was protected from certain things like for example, too much narcissism, right? If your work was brilliant, couldn't take all the credit for it. Everybody knew you had this disembodied genius who had helped you if your work bombed, not entirely your fault, you know, everyone knew your genius was kind of lame and this is how people thought about creativity in the west for a really long time and then the renaissance came and everything changed. And we had this big idea and the big idea was let's put the individual human being at the center of the universe right above all gods and mysteries. And there's no more room for like mystical creatures who take dictation from the divine. And it's the beginning of rational humanism and people started to believe that creativity came completely from the self of the individual. And for the first time in history you start to hear people referring to this or that artist as being a genius rather than having a genius and I got to tell you, I think that was a huge error. You know, I think that allowing somebody, one mere person to believe that he or she is like the vessel, like the font and the essence and the source of all divine creative unknowable eternal mystery is just like a smidge Too much responsibility to put on one Fragile human Psyche. It's like asking somebody to swallow the sun, you know, it just completely warps and distorts egos and it creates all these unmanageable expectations about performance. And I think the pressure of that has been killing off our artists for the last 500 years. And if this is true, and I think it is true, the question becomes, you know, what now can we do this differently? Maybe go back to some more ancient understanding about the relationship between humans and the creative mystery. Um, maybe not, you know, like maybe we can't just erase 500 years of rational humanistic thought in 1 18 minute speech and there's probably people in this audience who would raise really legitimate scientific suspicions about the notion of basically fairies who follow people around like rubbing fairy juice on their projects and stuff. Like I'm not probably gonna bring you all along with me on this. But the question that I kind of want to poses, you know, why not, um, why not think about it this way? Because it makes as much sense as anything else I have ever heard in terms of explaining the utter maddening capriciousness of the creative process, a process which, as anybody who has ever tried to make something, which is to say as basically everyone here knows does not always behave rationally and in fact can sometimes feel downright paranormal. Um I had this encounter recently where I met the extraordinary american poet, ruth Stone Who's now in her 90s, but she's been a poet her entire life. And she told me that when she was growing up in rural Virginia, she would be out working in the fields and she said she would like feel and hear a poem coming at her from over the landscape and she said it was like a thunderous train of air and it would come barreling down at her over the landscape and when she felt it coming because it would shake the earth under her feet, she knew that she had only one thing to do at that point and that was to in her words run like hell. And she would like run like hell to the house and she'd be getting chased by this poem and the whole deal was that she had to get to a piece of paper and a pencil fast enough so that when it thundered through her, she could collect it and grab it on the page. And other times she wouldn't be fast enough so she'd be like running and running and running and she wouldn't get to the house and the poem would like barrel through her and she would miss it. And she said it would continue on across the landscape looking as she put it for another poet. And then there were these times, this is the piece. I never forgot. She said that there were moments when she would almost miss it, right? So she's like running in the house and she's looking for the paper and the poem passes through her and she grabs a pencil just as it's going through her. And then she said, it was like, she would reach out with her other hand and she would catch it, she would catch the poem by its tail and she would pull it backwards into her body as she was transcribing on the page. And in these instances the poem would come up on the page, perfect and intact, but backwards from the last word to the first. So, when I heard that I was like, that's you know, that's uncanny, that's exactly what my creative process is. Like, it's not at all what my creative process. I'm not the pipeline, you know, like I'm a mule and the way that I have to work is that I have to get up at the same time every day and like sweat and labor and like barrel through it really awkwardly. But even I in my mulish nous, even I have brushed up against that thing, you know at times and I would imagine that a lot of you have to, you know, like even I have had worker ideas come through me from a source that I honestly cannot identify and what is that thing and how are we to relate to it in a way that will not make us lose our minds. But in fact might actually keep us sane. And for me, the best contemporary example that I have of how to do that is the musician Tom waits, who I got to interview several years ago on a on a magazine assignment and we were talking about this and you know, you know, tom for most of his life, he was pretty much the embodiment of the tormented contemporary modern artists, like trying to control and manage and dominate these sort of uncontrollable creative impulses that were totally internalized. But then he got older and he got calmer and one day he was driving down the freeway in Los Angeles, he told me and this is when it all changed for him. And he's like speeding along and all of a sudden he hears this little fragment of melody that comes into his head as inspiration often comes elusive and tantalizing and he wants it, you know, it's gorgeous and and he longs for it, but he has no way to get it. He doesn't have a piece paper, he doesn't have a pencil, it doesn't have a tape recorder. So he starts to feel all that old anxiety start to rise in him, like I'm going to lose this thing, you know, and I'm gonna be haunted by this song forever and I'm not good enough and I can't do it. And instead of panicking, he just stopped, he just stopped that whole mental process and he did something completely novel, he just looked up at the sky and he said excuse me, can you not see that I'm driving? Mhm. Do I look like I can write down a song right now, you know, if you really want to exist, come back at a more opportune moment when I can take care of you, otherwise go bother somebody else today, go bother Leonard cohen, you know? And and his whole work process changed after that not the work, the work was still oftentimes as dark as ever, you know? But the process and the heavy anxiety around it was released when he took the genie, the genius out of him where it was causing nothing but trouble and released it kind of back where it came from and realized that this didn't have to be this internalized, tormented thing. It could be this peculiar, wondrous, bizarre collaboration kind of conversation between tom and the strange external thing that was not quite tom. So when I heard that story, it started to shift a little bit the way that I worked too and it already saved me once this idea, it saved me when I was in the middle of writing, eat pray love and I fell into one of those sort of pits of despair that we all fall into when we're working on something and it's not coming. And you start to think this is going to be a disaster. There's going to be the worst book ever written. Not just bad, but the worst book ever written. And um and I sort of think I should just dump this project, you know? Um but then I remembered tom talking to the open air and I tried it. Um so I just lifted my face up from the manuscript and I directed my comments to an empty corner of the room. And I said aloud, uh listen, you thing. Um you and I both know that if this book isn't brilliant, that is not entirely my fault because you can see that I am putting everything I have into this. You know, I don't have any more than this. So if you wanted to be better, then you've got to show up and do your part of the deal. Okay. But if you don't do that, you know what the hell with it? I'm gonna keep writing anyway. Because that's my job. And I would please like the record to reflect today that I showed up for my part of the job. Because in the end, it's like this ok, centuries ago in the deserts of north Africa, people used to gather for these moonlight dances of sacred dance and music. That would go on for hours and hours until dawn and they were always magnificent because the dancers were professionals and they were terrific. Right? But every once in a while very rarely something would happen. And one of these performers would actually become transcendent and I know you know what I'm talking about because I know you've all seen at some point in your life a performance like this you know and it was like time would stop and the dancer would sort of step through some kind of portal and he wasn't doing anything different than he had ever done, you know 1000 nights before. But everything would align and all of a sudden he would no longer appear to be nearly human. You know, he would be like lit from within and lit from below and all lit up on fire with divinity and when this happened back then people knew it for what it was. You know they called it by its name. They would put their hands together and they would start to chant Allah Allah Allah God God God that's God you know um curious historical footnote when the moors invaded Southern Spain, they took this custom with them and the pronunciation changed over the centuries from Allah Allah Allah to ole ole ole which you still hear in bullfights and in Flamenco dances in spain when a performer has done something impossible and magic Allah ole ole Allah magnificent bravo incomprehensible. There it is a glimpse of God which is great because we need that. But the tricky bit comes the next morning right for the dancer himself when he wakes up and discovers that it's Tuesday at 11 a.m. And he's no longer a glimpse of God. He's just an aging mortal with really bad knees and maybe he's never going to ascend to that height again. And maybe nobody will ever chant God's name again as he spins. And what is he then to do with the rest of his life? This is hard. This is one of the most painful reconciliations to make in a creative life, you know, but maybe it doesn't have to be quite so full of anguish if you never happened to believe in the first place, that the most extraordinary aspects of your being came from you. But maybe if you just believe that they were on loan to you, you know, from some unimaginable source for some exquisite portion of your life to be passed along when you're finished with somebody else. And, you know, if we think about it this way, it starts to change everything. You know, This is how I've started to think and this is certainly how I was thinking about it in the last few months, you know, as I've been working on the book that will soon be published as the dangerously frighteningly over anticipated follow up to my freakish success and what I have to sort of keep telling myself when I get really psyched out about that is don't be afraid, don't be daunted. Just do your job continue to show up for your piece of it, whatever that might be. If your job is to dance, do your dance. If the divine cockeyed genius assigned to your case decides to let some sort of wonderment be glimpsed for just one moment through your efforts, then Ole and if not, do your dance anyhow and Ole to you. Nonetheless, I believe this and I feel like we must teach it Ole to you nonetheless, just for having the sheer human love and stubbornness to keep showing up. Thank you. Thank you, Thank you, Thank you.'''"
   ]
  },
  {
   "cell_type": "code",
   "execution_count": 9,
   "id": "14faa7f2-a6c1-4528-ae8d-4c733e7f18e8",
   "metadata": {},
   "outputs": [],
   "source": [
    "gcp_res = ['' for i in range(4)]\n",
    "aws_res = ['' for i in range(4)]\n",
    "for i in range(4):\n",
    "    gcp_res[i] = jiwer.compute_measures(ref[i], gcp[i])\n",
    "    aws_res[i] = jiwer.compute_measures(ref[i], aws[i])"
   ]
  },
  {
   "cell_type": "code",
   "execution_count": 10,
   "id": "de96118d-7a51-4d61-a7df-0bb0c33ffe60",
   "metadata": {},
   "outputs": [
    {
     "name": "stdout",
     "output_type": "stream",
     "text": [
      "<class 'pandas.core.frame.DataFrame'>\n",
      "RangeIndex: 4 entries, 0 to 3\n",
      "Data columns (total 16 columns):\n",
      " #   Column             Non-Null Count  Dtype  \n",
      "---  ------             --------------  -----  \n",
      " 0   wer_gcp            4 non-null      float64\n",
      " 1   mer_gcp            4 non-null      float64\n",
      " 2   wil_gcp            4 non-null      float64\n",
      " 3   wip_gcp            4 non-null      float64\n",
      " 4   hits_gcp           4 non-null      int64  \n",
      " 5   substitutions_gcp  4 non-null      int64  \n",
      " 6   deletions_gcp      4 non-null      int64  \n",
      " 7   insertions_gcp     4 non-null      int64  \n",
      " 8   wer_aws            4 non-null      float64\n",
      " 9   mer_aws            4 non-null      float64\n",
      " 10  wil_aws            4 non-null      float64\n",
      " 11  wip_aws            4 non-null      float64\n",
      " 12  hits_aws           4 non-null      int64  \n",
      " 13  substitutions_aws  4 non-null      int64  \n",
      " 14  deletions_aws      4 non-null      int64  \n",
      " 15  insertions_aws     4 non-null      int64  \n",
      "dtypes: float64(8), int64(8)\n",
      "memory usage: 640.0 bytes\n"
     ]
    }
   ],
   "source": [
    "gcp_df = pd.DataFrame.from_dict(gcp_res)\n",
    "aws_df = pd.DataFrame.from_dict(aws_res)\n",
    "asr_df = gcp_df.merge(aws_df, how='inner', left_index=True, right_index=True, suffixes=('_gcp', '_aws'))\n",
    "asr_df.info()"
   ]
  },
  {
   "cell_type": "code",
   "execution_count": 11,
   "id": "72612b46-c3bf-4e38-9b8d-84ef6d783596",
   "metadata": {},
   "outputs": [
    {
     "data": {
      "text/html": [
       "<div>\n",
       "<style scoped>\n",
       "    .dataframe tbody tr th:only-of-type {\n",
       "        vertical-align: middle;\n",
       "    }\n",
       "\n",
       "    .dataframe tbody tr th {\n",
       "        vertical-align: top;\n",
       "    }\n",
       "\n",
       "    .dataframe thead th {\n",
       "        text-align: right;\n",
       "    }\n",
       "</style>\n",
       "<table border=\"1\" class=\"dataframe\">\n",
       "  <thead>\n",
       "    <tr style=\"text-align: right;\">\n",
       "      <th></th>\n",
       "      <th>wer_gcp</th>\n",
       "      <th>mer_gcp</th>\n",
       "      <th>wil_gcp</th>\n",
       "      <th>wip_gcp</th>\n",
       "      <th>hits_gcp</th>\n",
       "      <th>substitutions_gcp</th>\n",
       "      <th>deletions_gcp</th>\n",
       "      <th>insertions_gcp</th>\n",
       "      <th>wer_aws</th>\n",
       "      <th>mer_aws</th>\n",
       "      <th>wil_aws</th>\n",
       "      <th>wip_aws</th>\n",
       "      <th>hits_aws</th>\n",
       "      <th>substitutions_aws</th>\n",
       "      <th>deletions_aws</th>\n",
       "      <th>insertions_aws</th>\n",
       "    </tr>\n",
       "  </thead>\n",
       "  <tbody>\n",
       "    <tr>\n",
       "      <th>0</th>\n",
       "      <td>0.333333</td>\n",
       "      <td>0.333333</td>\n",
       "      <td>0.555556</td>\n",
       "      <td>0.444444</td>\n",
       "      <td>6</td>\n",
       "      <td>3</td>\n",
       "      <td>0</td>\n",
       "      <td>0</td>\n",
       "      <td>0.222222</td>\n",
       "      <td>0.222222</td>\n",
       "      <td>0.395062</td>\n",
       "      <td>0.604938</td>\n",
       "      <td>7</td>\n",
       "      <td>2</td>\n",
       "      <td>0</td>\n",
       "      <td>0</td>\n",
       "    </tr>\n",
       "    <tr>\n",
       "      <th>1</th>\n",
       "      <td>0.332292</td>\n",
       "      <td>0.322914</td>\n",
       "      <td>0.512558</td>\n",
       "      <td>0.487442</td>\n",
       "      <td>2231</td>\n",
       "      <td>865</td>\n",
       "      <td>106</td>\n",
       "      <td>93</td>\n",
       "      <td>0.291693</td>\n",
       "      <td>0.282175</td>\n",
       "      <td>0.451779</td>\n",
       "      <td>0.548221</td>\n",
       "      <td>2376</td>\n",
       "      <td>732</td>\n",
       "      <td>94</td>\n",
       "      <td>108</td>\n",
       "    </tr>\n",
       "    <tr>\n",
       "      <th>2</th>\n",
       "      <td>0.367850</td>\n",
       "      <td>0.357404</td>\n",
       "      <td>0.552489</td>\n",
       "      <td>0.447511</td>\n",
       "      <td>1584</td>\n",
       "      <td>687</td>\n",
       "      <td>124</td>\n",
       "      <td>70</td>\n",
       "      <td>0.288100</td>\n",
       "      <td>0.278901</td>\n",
       "      <td>0.438345</td>\n",
       "      <td>0.561655</td>\n",
       "      <td>1784</td>\n",
       "      <td>503</td>\n",
       "      <td>108</td>\n",
       "      <td>79</td>\n",
       "    </tr>\n",
       "    <tr>\n",
       "      <th>3</th>\n",
       "      <td>0.345656</td>\n",
       "      <td>0.337194</td>\n",
       "      <td>0.530251</td>\n",
       "      <td>0.469749</td>\n",
       "      <td>2518</td>\n",
       "      <td>1031</td>\n",
       "      <td>157</td>\n",
       "      <td>93</td>\n",
       "      <td>0.265246</td>\n",
       "      <td>0.258957</td>\n",
       "      <td>0.412767</td>\n",
       "      <td>0.587233</td>\n",
       "      <td>2813</td>\n",
       "      <td>733</td>\n",
       "      <td>160</td>\n",
       "      <td>90</td>\n",
       "    </tr>\n",
       "  </tbody>\n",
       "</table>\n",
       "</div>"
      ],
      "text/plain": [
       "    wer_gcp   mer_gcp   wil_gcp   wip_gcp  hits_gcp  substitutions_gcp  \\\n",
       "0  0.333333  0.333333  0.555556  0.444444         6                  3   \n",
       "1  0.332292  0.322914  0.512558  0.487442      2231                865   \n",
       "2  0.367850  0.357404  0.552489  0.447511      1584                687   \n",
       "3  0.345656  0.337194  0.530251  0.469749      2518               1031   \n",
       "\n",
       "   deletions_gcp  insertions_gcp   wer_aws   mer_aws   wil_aws   wip_aws  \\\n",
       "0              0               0  0.222222  0.222222  0.395062  0.604938   \n",
       "1            106              93  0.291693  0.282175  0.451779  0.548221   \n",
       "2            124              70  0.288100  0.278901  0.438345  0.561655   \n",
       "3            157              93  0.265246  0.258957  0.412767  0.587233   \n",
       "\n",
       "   hits_aws  substitutions_aws  deletions_aws  insertions_aws  \n",
       "0         7                  2              0               0  \n",
       "1      2376                732             94             108  \n",
       "2      1784                503            108              79  \n",
       "3      2813                733            160              90  "
      ]
     },
     "execution_count": 11,
     "metadata": {},
     "output_type": "execute_result"
    }
   ],
   "source": [
    "asr_df"
   ]
  },
  {
   "cell_type": "code",
   "execution_count": 12,
   "id": "287b2af3-b6db-45e3-82a5-90c53121199c",
   "metadata": {},
   "outputs": [
    {
     "data": {
      "text/html": [
       "<div>\n",
       "<style scoped>\n",
       "    .dataframe tbody tr th:only-of-type {\n",
       "        vertical-align: middle;\n",
       "    }\n",
       "\n",
       "    .dataframe tbody tr th {\n",
       "        vertical-align: top;\n",
       "    }\n",
       "\n",
       "    .dataframe thead th {\n",
       "        text-align: right;\n",
       "    }\n",
       "</style>\n",
       "<table border=\"1\" class=\"dataframe\">\n",
       "  <thead>\n",
       "    <tr style=\"text-align: right;\">\n",
       "      <th></th>\n",
       "      <th>wer_gcp</th>\n",
       "      <th>wer_aws</th>\n",
       "      <th>mer_gcp</th>\n",
       "      <th>mer_aws</th>\n",
       "      <th>wil_gcp</th>\n",
       "      <th>wil_aws</th>\n",
       "      <th>wip_gcp</th>\n",
       "      <th>wip_aws</th>\n",
       "      <th>hits_gcp</th>\n",
       "      <th>hits_aws</th>\n",
       "      <th>substitutions_gcp</th>\n",
       "      <th>substitutions_aws</th>\n",
       "      <th>deletions_gcp</th>\n",
       "      <th>deletions_aws</th>\n",
       "      <th>insertions_gcp</th>\n",
       "      <th>insertions_aws</th>\n",
       "    </tr>\n",
       "  </thead>\n",
       "  <tbody>\n",
       "    <tr>\n",
       "      <th>0</th>\n",
       "      <td>0.333333</td>\n",
       "      <td>0.222222</td>\n",
       "      <td>0.333333</td>\n",
       "      <td>0.222222</td>\n",
       "      <td>0.555556</td>\n",
       "      <td>0.395062</td>\n",
       "      <td>0.444444</td>\n",
       "      <td>0.604938</td>\n",
       "      <td>6</td>\n",
       "      <td>7</td>\n",
       "      <td>3</td>\n",
       "      <td>2</td>\n",
       "      <td>0</td>\n",
       "      <td>0</td>\n",
       "      <td>0</td>\n",
       "      <td>0</td>\n",
       "    </tr>\n",
       "    <tr>\n",
       "      <th>1</th>\n",
       "      <td>0.332292</td>\n",
       "      <td>0.291693</td>\n",
       "      <td>0.322914</td>\n",
       "      <td>0.282175</td>\n",
       "      <td>0.512558</td>\n",
       "      <td>0.451779</td>\n",
       "      <td>0.487442</td>\n",
       "      <td>0.548221</td>\n",
       "      <td>2231</td>\n",
       "      <td>2376</td>\n",
       "      <td>865</td>\n",
       "      <td>732</td>\n",
       "      <td>106</td>\n",
       "      <td>94</td>\n",
       "      <td>93</td>\n",
       "      <td>108</td>\n",
       "    </tr>\n",
       "    <tr>\n",
       "      <th>2</th>\n",
       "      <td>0.367850</td>\n",
       "      <td>0.288100</td>\n",
       "      <td>0.357404</td>\n",
       "      <td>0.278901</td>\n",
       "      <td>0.552489</td>\n",
       "      <td>0.438345</td>\n",
       "      <td>0.447511</td>\n",
       "      <td>0.561655</td>\n",
       "      <td>1584</td>\n",
       "      <td>1784</td>\n",
       "      <td>687</td>\n",
       "      <td>503</td>\n",
       "      <td>124</td>\n",
       "      <td>108</td>\n",
       "      <td>70</td>\n",
       "      <td>79</td>\n",
       "    </tr>\n",
       "    <tr>\n",
       "      <th>3</th>\n",
       "      <td>0.345656</td>\n",
       "      <td>0.265246</td>\n",
       "      <td>0.337194</td>\n",
       "      <td>0.258957</td>\n",
       "      <td>0.530251</td>\n",
       "      <td>0.412767</td>\n",
       "      <td>0.469749</td>\n",
       "      <td>0.587233</td>\n",
       "      <td>2518</td>\n",
       "      <td>2813</td>\n",
       "      <td>1031</td>\n",
       "      <td>733</td>\n",
       "      <td>157</td>\n",
       "      <td>160</td>\n",
       "      <td>93</td>\n",
       "      <td>90</td>\n",
       "    </tr>\n",
       "  </tbody>\n",
       "</table>\n",
       "</div>"
      ],
      "text/plain": [
       "    wer_gcp   wer_aws   mer_gcp   mer_aws   wil_gcp   wil_aws   wip_gcp  \\\n",
       "0  0.333333  0.222222  0.333333  0.222222  0.555556  0.395062  0.444444   \n",
       "1  0.332292  0.291693  0.322914  0.282175  0.512558  0.451779  0.487442   \n",
       "2  0.367850  0.288100  0.357404  0.278901  0.552489  0.438345  0.447511   \n",
       "3  0.345656  0.265246  0.337194  0.258957  0.530251  0.412767  0.469749   \n",
       "\n",
       "    wip_aws  hits_gcp  hits_aws  substitutions_gcp  substitutions_aws  \\\n",
       "0  0.604938         6         7                  3                  2   \n",
       "1  0.548221      2231      2376                865                732   \n",
       "2  0.561655      1584      1784                687                503   \n",
       "3  0.587233      2518      2813               1031                733   \n",
       "\n",
       "   deletions_gcp  deletions_aws  insertions_gcp  insertions_aws  \n",
       "0              0              0               0               0  \n",
       "1            106             94              93             108  \n",
       "2            124            108              70              79  \n",
       "3            157            160              93              90  "
      ]
     },
     "execution_count": 12,
     "metadata": {},
     "output_type": "execute_result"
    }
   ],
   "source": [
    "columns = ['wer_gcp','wer_aws','mer_gcp','mer_aws',\n",
    "           'wil_gcp','wil_aws','wip_gcp','wip_aws',\n",
    "           'hits_gcp','hits_aws','substitutions_gcp','substitutions_aws',\n",
    "           'deletions_gcp','deletions_aws','insertions_gcp','insertions_aws']\n",
    "asr_df2 = asr_df[columns]\n",
    "asr_df2"
   ]
  },
  {
   "cell_type": "markdown",
   "id": "743d91b5-7552-419d-ad8f-638d366c1b59",
   "metadata": {},
   "source": [
    "### In all four samples tested, AWS performed better in all measures (WER, MER, WIL, WIP)"
   ]
  },
  {
   "cell_type": "code",
   "execution_count": null,
   "id": "3c218e74-3624-4644-856c-90e2c2471e9f",
   "metadata": {},
   "outputs": [],
   "source": []
  }
 ],
 "metadata": {
  "kernelspec": {
   "display_name": "Python 3 (ipykernel)",
   "language": "python",
   "name": "python3"
  },
  "language_info": {
   "codemirror_mode": {
    "name": "ipython",
    "version": 3
   },
   "file_extension": ".py",
   "mimetype": "text/x-python",
   "name": "python",
   "nbconvert_exporter": "python",
   "pygments_lexer": "ipython3",
   "version": "3.9.6"
  }
 },
 "nbformat": 4,
 "nbformat_minor": 5
}
